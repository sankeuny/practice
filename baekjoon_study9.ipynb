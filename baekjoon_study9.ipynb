{
  "cells": [
    {
      "cell_type": "markdown",
      "metadata": {
        "id": "view-in-github",
        "colab_type": "text"
      },
      "source": [
        "<a href=\"https://colab.research.google.com/github/sparklabel/practice/blob/dopractice/baekjoon_study9.ipynb\" target=\"_parent\"><img src=\"https://colab.research.google.com/assets/colab-badge.svg\" alt=\"Open In Colab\"/></a>"
      ]
    },
    {
      "cell_type": "markdown",
      "id": "cce08eaf",
      "metadata": {
        "id": "cce08eaf"
      },
      "source": [
        "## 동전 0 (#11047)\n",
        "\n",
        "- - -\n",
        "1초, 256MB\n",
        "\n",
        "- - -  \n",
        "\n",
        "### **문제**\n",
        "준규가 가지고 있는 동전은 총 N종류이고, 각각의 동전을 매우 많이 가지고 있다.\n",
        "\n",
        "동전을 적절히 사용해서 그 가치의 합을 K로 만들려고 한다. 이때 필요한 동전 개수의 최솟값을 구하는 프로그램을 작성하시오.\n",
        "\n",
        "### **입력**\n",
        "첫째 줄에 N과 K가 주어진다. (1 ≤ N ≤ 10, 1 ≤ K ≤ 100,000,000)\n",
        "\n",
        "둘째 줄부터 N개의 줄에 동전의 가치 Ai가 오름차순으로 주어진다. (1 ≤ Ai ≤ 1,000,000, A1 = 1, i ≥ 2인 경우에 Ai는 Ai-1의 배수)\n",
        "\n",
        "### **출력**\n",
        "첫째 줄에 K원을 만드는데 필요한 동전 개수의 최솟값을 출력한다.\n",
        "\n",
        "- - -  \n",
        "\n",
        "#### 예제 입력 1 \n",
        "```\n",
        "10 4200\n",
        "1\n",
        "5\n",
        "10\n",
        "50\n",
        "100\n",
        "500\n",
        "1000\n",
        "5000\n",
        "10000\n",
        "50000 \n",
        "```\n",
        "#### 예제 출력 1\n",
        "```\n",
        "6\n",
        "```\n",
        "#### 예제 입력 2 \n",
        "```\n",
        "10 4790\n",
        "1\n",
        "5\n",
        "10\n",
        "50\n",
        "100\n",
        "500\n",
        "1000\n",
        "5000\n",
        "10000\n",
        "50000\n",
        "```\n",
        "#### 예제 출력 2 \n",
        "```\n",
        "12\n",
        "```"
      ]
    },
    {
      "cell_type": "code",
      "source": [
        "n, k = map(int, input().split())\n",
        "coin_list=list()\n",
        "total_coin_cnt=0\n",
        "\n",
        "for _ in range(n):\n",
        "    coin_list.append(int(input()))\n",
        "    \n",
        "coin_list.sort(reverse=True)\n",
        "\n",
        "for coin in coin_list:\n",
        "    coin_num = k // coin\n",
        "    total_coin_cnt += coin_num\n",
        "    k -= coin_num * coin\n",
        "\n",
        "print(total_coin_cnt)"
      ],
      "metadata": {
        "id": "P0J7_X-8iwr3",
        "colab": {
          "base_uri": "https://localhost:8080/"
        },
        "outputId": "af67040e-d398-49fb-cc24-5ef6c5266ec4"
      },
      "id": "P0J7_X-8iwr3",
      "execution_count": 1,
      "outputs": [
        {
          "output_type": "stream",
          "name": "stdout",
          "text": [
            "10 4790\n",
            "1\n",
            "5\n",
            "10\n",
            "50\n",
            "100\n",
            "500\n",
            "1000\n",
            "5000\n",
            "10000\n",
            "50000\n",
            "12\n"
          ]
        }
      ]
    },
    {
      "cell_type": "markdown",
      "id": "be96e15f",
      "metadata": {
        "id": "be96e15f"
      },
      "source": [
        "## ATM (#11399)\n",
        "- - -\n",
        "1초, 256MB\n",
        "\n",
        "- - -  \n",
        "\n",
        "### **문제**\n",
        "인하은행에는 ATM이 1대밖에 없다. 지금 이 ATM앞에 N명의 사람들이 줄을 서있다. 사람은 1번부터 N번까지 번호가 매겨져 있으며, i번 사람이 돈을 인출하는데 걸리는 시간은 Pi분이다.\n",
        "\n",
        "사람들이 줄을 서는 순서에 따라서, 돈을 인출하는데 필요한 시간의 합이 달라지게 된다. 예를 들어, 총 5명이 있고, P1 = 3, P2 = 1, P3 = 4, P4 = 3, P5 = 2 인 경우를 생각해보자. [1, 2, 3, 4, 5] 순서로 줄을 선다면, 1번 사람은 3분만에 돈을 뽑을 수 있다. 2번 사람은 1번 사람이 돈을 뽑을 때 까지 기다려야 하기 때문에, 3+1 = 4분이 걸리게 된다. 3번 사람은 1번, 2번 사람이 돈을 뽑을 때까지 기다려야 하기 때문에, 총 3+1+4 = 8분이 필요하게 된다. 4번 사람은 3+1+4+3 = 11분, 5번 사람은 3+1+4+3+2 = 13분이 걸리게 된다. 이 경우에 각 사람이 돈을 인출하는데 필요한 시간의 합은 3+4+8+11+13 = 39분이 된다.\n",
        "\n",
        "줄을 [2, 5, 1, 4, 3] 순서로 줄을 서면, 2번 사람은 1분만에, 5번 사람은 1+2 = 3분, 1번 사람은 1+2+3 = 6분, 4번 사람은 1+2+3+3 = 9분, 3번 사람은 1+2+3+3+4 = 13분이 걸리게 된다. 각 사람이 돈을 인출하는데 필요한 시간의 합은 1+3+6+9+13 = 32분이다. 이 방법보다 더 필요한 시간의 합을 최소로 만들 수는 없다.\n",
        "\n",
        "줄을 서 있는 사람의 수 N과 각 사람이 돈을 인출하는데 걸리는 시간 Pi가 주어졌을 때, 각 사람이 돈을 인출하는데 필요한 시간의 합의 최솟값을 구하는 프로그램을 작성하시오.\n",
        "\n",
        "### **입력**\n",
        "첫째 줄에 사람의 수 N(1 ≤ N ≤ 1,000)이 주어진다. 둘째 줄에는 각 사람이 돈을 인출하는데 걸리는 시간 Pi가 주어진다. (1 ≤ Pi ≤ 1,000) \n",
        "\n",
        "### **출력**\n",
        "첫째 줄에 각 사람이 돈을 인출하는데 필요한 시간의 합의 최솟값을 출력한다.\n",
        "\n",
        "- - -  \n",
        "\n",
        "#### 예제 입력 1 \n",
        "```\n",
        "5\n",
        "3 1 4 3 2\n",
        "``` \n",
        "#### 예제 출력 1\n",
        "```\n",
        "32\n",
        "```"
      ]
    },
    {
      "cell_type": "code",
      "execution_count": 2,
      "id": "478da9e8",
      "metadata": {
        "id": "478da9e8",
        "colab": {
          "base_uri": "https://localhost:8080/"
        },
        "outputId": "54206f2e-b003-4771-af16-a57b6ccf6809"
      },
      "outputs": [
        {
          "output_type": "stream",
          "name": "stdout",
          "text": [
            "5\n",
            "3 1 4 3 2\n",
            "32\n"
          ]
        }
      ],
      "source": [
        "t = int(input())\n",
        "P = list(map(int, input().split()))\n",
        "P.sort()\n",
        "\n",
        "init=0\n",
        "\n",
        "for i in range(t):\n",
        "    for j in range(i+1):\n",
        "        init += P[j]\n",
        "\n",
        "print(init)"
      ]
    },
    {
      "cell_type": "markdown",
      "source": [
        "## 잃어버린 괄호 (#1541)\n",
        "- - -\n",
        "2초, 128MB\n",
        "\n",
        "- - -  \n",
        "\n",
        "### **문제**\n",
        "세준이는 양수와 +, -, 그리고 괄호를 가지고 식을 만들었다. 그리고 나서 세준이는 괄호를 모두 지웠다.\n",
        "\n",
        "그리고 나서 세준이는 괄호를 적절히 쳐서 이 식의 값을 최소로 만들려고 한다.\n",
        "\n",
        "괄호를 적절히 쳐서 이 식의 값을 최소로 만드는 프로그램을 작성하시오.\n",
        "\n",
        "### **입력**\n",
        "첫째 줄에 식이 주어진다. 식은 ‘0’~‘9’, ‘+’, 그리고 ‘-’만으로 이루어져 있고, 가장 처음과 마지막 문자는 숫자이다. 그리고 연속해서 두 개 이상의 연산자가 나타나지 않고, 5자리보다 많이 연속되는 숫자는 없다. 수는 0으로 시작할 수 있다. 입력으로 주어지는 식의 길이는 50보다 작거나 같다. \n",
        "\n",
        "### **출력**\n",
        "첫째줄에 정답을 출력한다. \n",
        "\n",
        "\n",
        "- - -  \n",
        "\n",
        "#### 예제 입력 1 \n",
        "```\n",
        "55-50+40\n",
        "``` \n",
        "#### 예제 출력 1\n",
        "```\n",
        "-35\n",
        "```\n",
        "#### 예제 입력 2 \n",
        "```\n",
        "10+20+30+40\n",
        "``` \n",
        "#### 예제 출력 2\n",
        "```\n",
        "100\n",
        "```\n",
        "#### 예제 입력 3 \n",
        "```\n",
        "00009-00009\n",
        "``` \n",
        "#### 예제 출력 3\n",
        "```\n",
        "0\n",
        "```"
      ],
      "metadata": {
        "id": "mI5GlXzdshCV"
      },
      "id": "mI5GlXzdshCV"
    },
    {
      "cell_type": "code",
      "source": [
        "l = input().split(\"-\")\n",
        "\n",
        "for i in range(len(l)):\n",
        "    l[i] = sum(map(int, l[i].split(\"+\")))\n",
        "\n",
        "print(l[0]-sum((l[1:])))\n",
        "\n"
      ],
      "metadata": {
        "id": "tlvnCO6hs99H",
        "colab": {
          "base_uri": "https://localhost:8080/"
        },
        "outputId": "91f24adf-abe3-473d-883a-9589734ea921"
      },
      "id": "tlvnCO6hs99H",
      "execution_count": 38,
      "outputs": [
        {
          "output_type": "stream",
          "name": "stdout",
          "text": [
            "00009-00009\n",
            "0\n"
          ]
        }
      ]
    }
  ],
  "metadata": {
    "kernelspec": {
      "display_name": "Python 3 (ipykernel)",
      "language": "python",
      "name": "python3"
    },
    "language_info": {
      "codemirror_mode": {
        "name": "ipython",
        "version": 3
      },
      "file_extension": ".py",
      "mimetype": "text/x-python",
      "name": "python",
      "nbconvert_exporter": "python",
      "pygments_lexer": "ipython3",
      "version": "3.8.13"
    },
    "toc": {
      "base_numbering": 1,
      "nav_menu": {},
      "number_sections": false,
      "sideBar": true,
      "skip_h1_title": false,
      "title_cell": "Table of Contents",
      "title_sidebar": "Contents",
      "toc_cell": false,
      "toc_position": {},
      "toc_section_display": true,
      "toc_window_display": true
    },
    "varInspector": {
      "cols": {
        "lenName": 16,
        "lenType": 16,
        "lenVar": 40
      },
      "kernels_config": {
        "python": {
          "delete_cmd_postfix": "",
          "delete_cmd_prefix": "del ",
          "library": "var_list.py",
          "varRefreshCmd": "print(var_dic_list())"
        },
        "r": {
          "delete_cmd_postfix": ") ",
          "delete_cmd_prefix": "rm(",
          "library": "var_list.r",
          "varRefreshCmd": "cat(var_dic_list()) "
        }
      },
      "types_to_exclude": [
        "module",
        "function",
        "builtin_function_or_method",
        "instance",
        "_Feature"
      ],
      "window_display": false
    },
    "colab": {
      "name": "baekjoon_study9.ipynb",
      "provenance": [],
      "collapsed_sections": [],
      "include_colab_link": true
    }
  },
  "nbformat": 4,
  "nbformat_minor": 5
}